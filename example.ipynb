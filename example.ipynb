{
 "cells": [
  {
   "cell_type": "markdown",
   "metadata": {},
   "source": [
    "<h1 align=\"left\">\n",
    "<img src=\"roulette.jpg\" alt=\"monaco\" height=\"100\" width=\"100\" align=\"right\"/>\n",
    "</h1>\n",
    "\n",
    "# Task and project estimation with monaco\n",
    "\n",
    "This notebook showcases the monaco python package by applying it to a project estimation task."
   ]
  },
  {
   "cell_type": "markdown",
   "metadata": {},
   "source": [
    "## Introduction\n",
    "\n",
    "Estimating the duration of projects and tasks is difficult. Often the time it takes to complete is dependent on variables that can not be controlled or foreseen, and a great deal of uncertainty must be factored into any estimates made. \n",
    "\n",
    "One way to do this is to model a Task as a stochastic process and simulate that process many times to establish the likelihood of completion within a certain amount of time.\n",
    "\n",
    "For this tutorial we will assume a project where we build a machine learning model from scratch to deploying it in production. This project exists of the following sequential tasks:\n",
    "\n",
    "\n",
    "![Building an ML model](tutorial/project_example.png)"
   ]
  },
  {
   "cell_type": "code",
   "execution_count": 1,
   "metadata": {},
   "outputs": [],
   "source": [
    "from monaco import Task, Project\n",
    "import seaborn as sns"
   ]
  },
  {
   "cell_type": "markdown",
   "metadata": {},
   "source": [
    "# Task example 1"
   ]
  },
  {
   "cell_type": "code",
   "execution_count": 2,
   "metadata": {},
   "outputs": [],
   "source": [
    "t1 = Task(name='Problem definition', min=1, max=5, estimator='uniform')"
   ]
  },
  {
   "cell_type": "code",
   "execution_count": 3,
   "metadata": {},
   "outputs": [
    {
     "data": {
      "text/plain": [
       "2.486387754844234"
      ]
     },
     "execution_count": 3,
     "metadata": {},
     "output_type": "execute_result"
    }
   ],
   "source": [
    "t1.estimate()"
   ]
  },
  {
   "cell_type": "code",
   "execution_count": 4,
   "metadata": {},
   "outputs": [
    {
     "data": {
      "text/plain": [
       "[4.788402586883622,\n",
       " 1.1970128807396323,\n",
       " 2.142691548242047,\n",
       " 3.005675416228931,\n",
       " 4.987578666972285,\n",
       " 2.1285207063695757,\n",
       " 2.6352442792794695,\n",
       " 2.3537445426393178,\n",
       " 3.028184386641067,\n",
       " 1.6543953642471556]"
      ]
     },
     "execution_count": 4,
     "metadata": {},
     "output_type": "execute_result"
    }
   ],
   "source": [
    "[t1.estimate() for i in range(10)]"
   ]
  },
  {
   "cell_type": "code",
   "execution_count": 5,
   "metadata": {},
   "outputs": [],
   "source": [
    "t1_estimates = [t1.estimate() for i in range(1000)]"
   ]
  },
  {
   "cell_type": "code",
   "execution_count": 6,
   "metadata": {},
   "outputs": [
    {
     "data": {
      "text/plain": [
       "<matplotlib.axes._subplots.AxesSubplot at 0x11ef3ecd0>"
      ]
     },
     "execution_count": 6,
     "metadata": {},
     "output_type": "execute_result"
    },
    {
     "data": {
      "image/png": "[encoded data removed]",
      "text/plain": [
       "<Figure size 432x288 with 1 Axes>"
      ]
     },
     "metadata": {
      "needs_background": "light"
     },
     "output_type": "display_data"
    }
   ],
   "source": [
    "sns.distplot(t1_estimates, hist=True, kde=False)"
   ]
  },
  {
   "cell_type": "markdown",
   "metadata": {},
   "source": [
    "# Task example 2"
   ]
  },
  {
   "cell_type": "code",
   "execution_count": 7,
   "metadata": {},
   "outputs": [],
   "source": [
    "t2 = Task(name='Feature Engineering', min=3, mode=4, max=9, estimator='triangular')"
   ]
  },
  {
   "cell_type": "code",
   "execution_count": 8,
   "metadata": {},
   "outputs": [
    {
     "data": {
      "text/plain": [
       "4.370295943721028"
      ]
     },
     "execution_count": 8,
     "metadata": {},
     "output_type": "execute_result"
    }
   ],
   "source": [
    "t2.estimate()"
   ]
  },
  {
   "cell_type": "code",
   "execution_count": 9,
   "metadata": {},
   "outputs": [
    {
     "data": {
      "text/plain": [
       "[4.686020039545579,\n",
       " 4.11808054902572,\n",
       " 3.7594454781996047,\n",
       " 4.7002483980420235,\n",
       " 3.753976581821113,\n",
       " 4.1400776897323635,\n",
       " 6.93447085296704,\n",
       " 5.22957841330685,\n",
       " 5.276459688877416,\n",
       " 4.2937042724754555]"
      ]
     },
     "execution_count": 9,
     "metadata": {},
     "output_type": "execute_result"
    }
   ],
   "source": [
    "[t2.estimate() for i in range(10)]"
   ]
  },
  {
   "cell_type": "code",
   "execution_count": 10,
   "metadata": {},
   "outputs": [],
   "source": [
    "t2_estimates = [t2.estimate() for i in range(1000)]"
   ]
  },
  {
   "cell_type": "code",
   "execution_count": 11,
   "metadata": {},
   "outputs": [
    {
     "data": {
      "text/plain": [
       "<matplotlib.axes._subplots.AxesSubplot at 0x11ef3ed30>"
      ]
     },
     "execution_count": 11,
     "metadata": {},
     "output_type": "execute_result"
    },
    {
     "data": {
      "image/png": "[encoded data removed]",
      "text/plain": [
       "<Figure size 432x288 with 1 Axes>"
      ]
     },
     "metadata": {
      "needs_background": "light"
     },
     "output_type": "display_data"
    }
   ],
   "source": [
    "sns.distplot(t2_estimates, hist=True, kde=False)"
   ]
  },
  {
   "cell_type": "markdown",
   "metadata": {},
   "source": [
    "# Project estimation\n",
    "\n",
    "Now we'll model the project in sequence: \n",
    "- First we initiate a project\n",
    "- Then we define the project tasks\n",
    "- Finally we add the tasks to the project\n",
    "\n",
    "\n",
    "To estimate a task we use the following notation:\n",
    "\n",
    "![](tutorial/task_definition.png)\n",
    "\n",
    "\n",
    "The full project is estimated as follows:\n",
    "\n",
    "![](tutorial/project_estimation.png)\n"
   ]
  },
  {
   "cell_type": "code",
   "execution_count": 14,
   "metadata": {},
   "outputs": [],
   "source": [
    "p = Project(name='Equilibribrium')"
   ]
  },
  {
   "cell_type": "code",
   "execution_count": 15,
   "metadata": {},
   "outputs": [],
   "source": [
    "t1 = Task(name='Problem definition', min=1, max=5, estimator='uniform')\n",
    "t2 = Task(name='EDA', min=1, mode=2, max=3, estimator='uniform')\n",
    "t3 = Task(name='Feature Engineering', min=3, mode=4, max=9, estimator='triangular')\n",
    "t4 = Task(name='Train', min=1, mode=2, max=4, estimator='triangular')\n",
    "t5 = Task(name='Evaluate', min=1, mode=2, max=5, estimator='triangular')\n",
    "t6 = Task(name='Deploy', min=3, mode=7, max=9, estimator='triangular')"
   ]
  },
  {
   "cell_type": "code",
   "execution_count": 16,
   "metadata": {},
   "outputs": [],
   "source": [
    "p.add_task(t1)\n",
    "p.add_task(t2)\n",
    "p.add_task(t3)\n",
    "p.add_task(t4)\n",
    "p.add_task(t5)\n",
    "p.add_task(t6)"
   ]
  },
  {
   "cell_type": "markdown",
   "metadata": {},
   "source": [
    "# Estimated project duration\n",
    "\n",
    "Running a monte carlo simulation means summing the result of n estimations of random variables. The Central Limit Theorem tells us that with large enough \"n\" the new distribution will approximate a normal distribution.\n",
    "\n",
    "This allows us to estimate the probability of completing the project within a certain number of days."
   ]
  },
  {
   "cell_type": "code",
   "execution_count": 21,
   "metadata": {},
   "outputs": [
    {
     "data": {
      "image/png": "[encoded data removed]",
      "text/plain": [
       "<Figure size 720x576 with 1 Axes>"
      ]
     },
     "metadata": {},
     "output_type": "display_data"
    }
   ],
   "source": [
    "plot_data = p.plot(n=10000)"
   ]
  },
  {
   "cell_type": "markdown",
   "metadata": {},
   "source": [
    "## Cumulative distribution function\n",
    "\n",
    "The CDF allows us to easily read out the probability of completing the project under a certain number of days."
   ]
  },
  {
   "cell_type": "code",
   "execution_count": 18,
   "metadata": {},
   "outputs": [
    {
     "data": {
      "image/png": "[encoded data removed]",
      "text/plain": [
       "<Figure size 720x576 with 1 Axes>"
      ]
     },
     "metadata": {},
     "output_type": "display_data"
    }
   ],
   "source": [
    "plot_data = p.plot(n=10000, hist=False)"
   ]
  }
 ],
 "metadata": {
  "kernelspec": {
   "display_name": "Python 3",
   "language": "python",
   "name": "python3"
  },
  "language_info": {
   "codemirror_mode": {
    "name": "ipython",
    "version": 3
   },
   "file_extension": ".py",
   "mimetype": "text/x-python",
   "name": "python",
   "nbconvert_exporter": "python",
   "pygments_lexer": "ipython3",
   "version": "3.8.0"
  }
 },
 "nbformat": 4,
 "nbformat_minor": 4
}
