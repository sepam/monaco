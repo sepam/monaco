{
 "cells": [
  {
   "cell_type": "markdown",
   "source": [],
   "metadata": {
    "collapsed": false,
    "pycharm": {
     "name": "#%% md\n"
    }
   }
  },
  {
   "cell_type": "markdown",
   "metadata": {
    "pycharm": {
     "name": "#%% md\n"
    }
   },
   "source": [
    "<h1 align=\"left\">\n",
    "<img src=\"../roulette.jpg\" alt=\"monaco\" height=\"100\" width=\"100\" align=\"right\"/>\n",
    "</h1>\n",
    "\n",
    "# Task and project estimation with monaco\n",
    "\n",
    "This notebook showcases the monaco python package by applying it to a project estimation task.\n",
    "\n",
    "The monaco python package can be found here: [](https://github.com/sepam/monaco)"
   ]
  },
  {
   "cell_type": "markdown",
   "metadata": {
    "pycharm": {
     "name": "#%% md\n"
    }
   },
   "source": [
    "## Introduction\n",
    "\n",
    "Estimating the duration of projects and tasks is difficult. Often the time it takes to complete is dependent on variables that can not be controlled or foreseen, and a great deal of uncertainty must be factored into any estimates made. \n",
    "\n",
    "One way to do this is to model a Task as a stochastic process and simulate that process many times to establish the likelihood of completion within a certain amount of time.\n",
    "\n",
    "For this tutorial we will assume a project where we build a machine learning model from scratch to deploying it in production. This project exists of the following sequential tasks:\n",
    "\n",
    "\n",
    "![Building an ML model](project_example.png)"
   ]
  },
  {
   "cell_type": "code",
   "execution_count": 3,
   "metadata": {
    "pycharm": {
     "name": "#%%\n"
    }
   },
   "outputs": [],
   "source": [
    "from monaco import Task, Project\n",
    "import seaborn as sns"
   ]
  },
  {
   "cell_type": "markdown",
   "metadata": {
    "pycharm": {
     "name": "#%% md\n"
    }
   },
   "source": [
    "# Task example 1"
   ]
  },
  {
   "cell_type": "code",
   "execution_count": 4,
   "metadata": {
    "pycharm": {
     "name": "#%%\n"
    }
   },
   "outputs": [],
   "source": [
    "task1 = Task(name='Problem definition', min=1, max=5, estimator='uniform')"
   ]
  },
  {
   "cell_type": "code",
   "execution_count": 5,
   "metadata": {
    "pycharm": {
     "name": "#%%\n"
    }
   },
   "outputs": [
    {
     "data": {
      "text/plain": [
       "2.1450700349663814"
      ]
     },
     "execution_count": 5,
     "metadata": {},
     "output_type": "execute_result"
    }
   ],
   "source": [
    "task1.estimate()"
   ]
  },
  {
   "cell_type": "code",
   "execution_count": 6,
   "metadata": {
    "pycharm": {
     "name": "#%%\n"
    }
   },
   "outputs": [
    {
     "data": {
      "text/plain": [
       "[3.954559696449568,\n",
       " 3.1609477401168045,\n",
       " 3.8869047092374633,\n",
       " 1.201783485969977,\n",
       " 2.878503630661293,\n",
       " 3.3114185758283177,\n",
       " 1.5862502997774497,\n",
       " 3.5917872910402644,\n",
       " 1.8471444157334571,\n",
       " 3.4335594657066224]"
      ]
     },
     "execution_count": 6,
     "metadata": {},
     "output_type": "execute_result"
    }
   ],
   "source": [
    "[task1.estimate() for i in range(10)]"
   ]
  },
  {
   "cell_type": "code",
   "execution_count": 9,
   "metadata": {
    "pycharm": {
     "name": "#%%\n"
    }
   },
   "outputs": [],
   "source": [
    "task1_estimates = [task1.estimate() for i in range(1000)]"
   ]
  },
  {
   "cell_type": "code",
   "execution_count": null,
   "outputs": [],
   "source": [
    "sns.distplot(task1_estimates, hist=True, kde=False);"
   ],
   "metadata": {
    "collapsed": false,
    "pycharm": {
     "name": "#%%\n"
    }
   }
  },
  {
   "cell_type": "markdown",
   "source": [
    "# Task example 2"
   ],
   "metadata": {
    "collapsed": false,
    "pycharm": {
     "name": "#%% md\n"
    }
   }
  },
  {
   "cell_type": "code",
   "execution_count": null,
   "outputs": [],
   "source": [
    "task2 = Task(name='Convince CEO', min=3, mode=8, max=9, estimator='triangular')"
   ],
   "metadata": {
    "collapsed": false,
    "pycharm": {
     "name": "#%%\n"
    }
   }
  },
  {
   "cell_type": "code",
   "execution_count": null,
   "outputs": [],
   "source": [
    "task2.estimate()"
   ],
   "metadata": {
    "collapsed": false,
    "pycharm": {
     "name": "#%%\n"
    }
   }
  },
  {
   "cell_type": "code",
   "execution_count": null,
   "outputs": [],
   "source": [
    "[task2.estimate() for i in range(10)]"
   ],
   "metadata": {
    "collapsed": false,
    "pycharm": {
     "name": "#%%\n"
    }
   }
  },
  {
   "cell_type": "code",
   "execution_count": null,
   "outputs": [],
   "source": [
    "task2_estimates = [task2.estimate() for i in range(1000)]"
   ],
   "metadata": {
    "collapsed": false,
    "pycharm": {
     "name": "#%%\n"
    }
   }
  },
  {
   "cell_type": "code",
   "execution_count": null,
   "outputs": [],
   "source": [
    "sns.distplot(task2_estimates, hist=True, kde=False)"
   ],
   "metadata": {
    "collapsed": false,
    "pycharm": {
     "name": "#%%\n"
    }
   }
  },
  {
   "cell_type": "markdown",
   "source": [
    "# Project estimation\n",
    "\n",
    "Now we'll model the project in sequence: \n",
    "- First we initiate a project\n",
    "- Then we define the project tasks\n",
    "- Finally we add the tasks to the project\n",
    "\n",
    "\n",
    "To estimate a task we use the following notation:\n",
    "\n",
    "![](task_definition.png)\n",
    "\n",
    "\n",
    "The full project is estimated as follows:\n",
    "\n",
    "![](project_estimation.png)\n"
   ],
   "metadata": {
    "collapsed": false,
    "pycharm": {
     "name": "#%% md\n"
    }
   }
  },
  {
   "cell_type": "code",
   "execution_count": null,
   "outputs": [],
   "source": [
    "p = Project(name='Equilibribrium')"
   ],
   "metadata": {
    "collapsed": false,
    "pycharm": {
     "name": "#%%\n"
    }
   }
  },
  {
   "cell_type": "code",
   "execution_count": null,
   "outputs": [],
   "source": [
    "t1 = Task(name='Problem definition', min=1, max=5, estimator='uniform')\n",
    "t2 = Task(name='Convince CEO', min=1, mode=2, max=3, estimator='uniform')\n",
    "t3 = Task(name='Engineering', min=3, mode=4, max=9, estimator='triangular')\n",
    "t4 = Task(name='QA', min=1, mode=2, max=4, estimator='triangular')\n",
    "t5 = Task(name='Demo', min=1, mode=2, max=5, estimator='triangular')\n",
    "t6 = Task(name='Deploy', min=3, mode=7, max=9, estimator='triangular')"
   ],
   "metadata": {
    "collapsed": false,
    "pycharm": {
     "name": "#%%\n"
    }
   }
  },
  {
   "cell_type": "code",
   "execution_count": null,
   "outputs": [],
   "source": [
    "p.add_task(t1)\n",
    "p.add_task(t2)\n",
    "p.add_task(t3)\n",
    "p.add_task(t4)\n",
    "p.add_task(t5)\n",
    "p.add_task(t6)"
   ],
   "metadata": {
    "collapsed": false,
    "pycharm": {
     "name": "#%%\n"
    }
   }
  },
  {
   "cell_type": "markdown",
   "source": [
    "# Estimated project duration\n",
    "\n",
    "Running a monte carlo simulation means summing the result of n estimations of random variables. The Central Limit Theorem tells us that with large enough \"n\" the new distribution will approximate a normal distribution.\n",
    "\n",
    "This allows us to estimate the probability of completing the project within a certain number of days."
   ],
   "metadata": {
    "collapsed": false,
    "pycharm": {
     "name": "#%% md\n"
    }
   }
  },
  {
   "cell_type": "code",
   "execution_count": null,
   "outputs": [],
   "source": [
    "project_duration_probability_curve = p.plot(n=10000)"
   ],
   "metadata": {
    "collapsed": false,
    "pycharm": {
     "name": "#%%\n"
    }
   }
  },
  {
   "cell_type": "markdown",
   "source": [
    "## Cumulative distribution function\n",
    "\n",
    "The CDF allows us to easily read out the probability of completing the project under a certain number of days."
   ],
   "metadata": {
    "collapsed": false,
    "pycharm": {
     "name": "#%% md\n"
    }
   }
  },
  {
   "cell_type": "code",
   "execution_count": null,
   "outputs": [],
   "source": [
    "project_duration_cumulative_probability_curve = p.plot(n=10000, hist=False)"
   ],
   "metadata": {
    "collapsed": false,
    "pycharm": {
     "name": "#%%\n"
    }
   }
  }
 ],
 "metadata": {
  "kernelspec": {
   "display_name": "Python 3",
   "language": "python",
   "name": "python3"
  },
  "language_info": {
   "codemirror_mode": {
    "name": "ipython",
    "version": 3
   },
   "file_extension": ".py",
   "mimetype": "text/x-python",
   "name": "python",
   "nbconvert_exporter": "python",
   "pygments_lexer": "ipython3",
   "version": "3.8.10"
  },
  "pycharm": {
   "stem_cell": {
    "cell_type": "raw",
    "metadata": {
     "collapsed": false
    },
    "source": []
   }
  }
 },
 "nbformat": 4,
 "nbformat_minor": 4
}